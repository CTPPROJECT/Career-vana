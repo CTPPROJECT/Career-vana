{
 "cells": [
  {
   "cell_type": "code",
   "execution_count": 70,
   "metadata": {},
   "outputs": [
    {
     "ename": "SyntaxError",
     "evalue": "invalid syntax (<ipython-input-70-b6f48d6423da>, line 2)",
     "output_type": "error",
     "traceback": [
      "\u001b[0;36m  File \u001b[0;32m\"<ipython-input-70-b6f48d6423da>\"\u001b[0;36m, line \u001b[0;32m2\u001b[0m\n\u001b[0;31m    elif tabs == 'Geographic':\u001b[0m\n\u001b[0m    ^\u001b[0m\n\u001b[0;31mSyntaxError\u001b[0m\u001b[0;31m:\u001b[0m invalid syntax\n"
     ]
    }
   ],
   "source": [
    "# Geographic tab\n",
    "elif tabs == 'Geographic':\n",
    "    st.header(\"Geographic Section\")\n",
    "\n",
    "    # Load data from the CSV file\n",
    "    file_path = '/Users/joey/Desktop/Career-vana/JupyterNB/monster_jobs.csv'\n",
    "    monster_jobs_df = pd.read_csv(file_path)\n",
    "\n",
    "    # Map from state names to codes\n",
    "    state_name_to_code = {\n",
    "        'Alabama': 'AL', 'Alaska': 'AK', 'Arizona': 'AZ', 'Arkansas': 'AR',\n",
    "        'California': 'CA', 'Colorado': 'CO', 'Connecticut': 'CT', 'Delaware': 'DE',\n",
    "        'Florida': 'FL', 'Georgia': 'GA', 'Hawaii': 'HI', 'Idaho': 'ID',\n",
    "        'Illinois': 'IL', 'Indiana': 'IN', 'Iowa': 'IA', 'Kansas': 'KS',\n",
    "        'Kentucky': 'KY', 'Louisiana': 'LA', 'Maine': 'ME', 'Maryland': 'MD',\n",
    "        'Massachusetts': 'MA', 'Michigan': 'MI', 'Minnesota': 'MN', 'Mississippi': 'MS',\n",
    "        'Missouri': 'MO', 'Montana': 'MT', 'Nebraska': 'NE', 'Nevada': 'NV',\n",
    "        'New Hampshire': 'NH', 'New Jersey': 'NJ', 'New Mexico': 'NM', 'New York': 'NY',\n",
    "        'North Carolina': 'NC', 'North Dakota': 'ND', 'Ohio': 'OH', 'Oklahoma': 'OK',\n",
    "        'Oregon': 'OR', 'Pennsylvania': 'PA', 'Rhode Island': 'RI', 'South Carolina': 'SC',\n",
    "        'South Dakota': 'SD', 'Tennessee': 'TN', 'Texas': 'TX', 'Utah': 'UT',\n",
    "        'Vermont': 'VT', 'Virginia': 'VA', 'Washington': 'WA', 'West Virginia': 'WV',\n",
    "        'Wisconsin': 'WI', 'Wyoming': 'WY', 'District of Columbia': 'DC'\n",
    "    }\n",
    "\n",
    "    # Map the state names in the CSV to state codes\n",
    "    monster_jobs_df['state_code'] = monster_jobs_df['cleaned_states'].map(state_name_to_code)\n",
    "\n",
    "    # Create a DataFrame for sectors\n",
    "    df_sector = monster_jobs_df[['state_code', 'sector']]\n",
    "\n",
    "    # Dynamically create a color map for each unique sector\n",
    "    unique_sectors = df_sector['sector'].unique()\n",
    "    colors = px.colors.qualitative.Plotly\n",
    "    color_discrete_map_sector = {sector: color for sector, color in zip(unique_sectors, colors)}\n",
    "\n",
    "    # Ensure the 'sector' column is categorical with a specific order\n",
    "    df_sector['sector'] = pd.Categorical(df_sector['sector'], categories=color_discrete_map_sector.keys())\n",
    "\n",
    "    # Initialize an empty figure for sectors\n",
    "    fig_sector = px.choropleth()\n",
    "    fig_sector.update_layout(geo=dict(scope='usa'))\n",
    "\n",
    "    # Create dropdown menus for state and sector\n",
    "    state_dropdown_sector = st.selectbox('Select a State:', list(state_name_to_code.values()))\n",
    "    sector_dropdown = st.selectbox('Select a Sector:', unique_sectors)\n",
    "\n",
    "    # Create a button for updating the sector map\n",
    "    update_button_sector = st.button('Update Sector Map')\n",
    "\n",
    "    # Define a function to update the sector map based on the selected options\n",
    "    def update_map_sector_on_click(b):\n",
    "        selected_state = state_dropdown_sector\n",
    "        selected_sector = sector_dropdown\n",
    "\n",
    "        # Filter the DataFrame based on the selected state and sector\n",
    "        filtered_df_sector = df_sector[(df_sector['state_code'] == selected_state) & (df_sector['sector'] == selected_sector)]\n",
    "\n",
    "        # Update the existing figure\n",
    "        with fig_sector.batch_update():\n",
    "            fig_sector.data = []\n",
    "            fig_sector.add_choropleth(\n",
    "                geojson=fig_sector.geojson,\n",
    "                locations=filtered_df_sector['state_code'],\n",
    "                z=filtered_df_sector['sector'],\n",
    "                locationmode=\"USA-states\",\n",
    "                color=filtered_df_sector['sector'],\n",
    "                color_discrete_map=color_discrete_map_sector\n",
    "            )\n",
    "            fig_sector.update_layout(title_text=f'Sector: {selected_sector} by State in USA')\n",
    "\n",
    "    # When the button is clicked, call the update_map_sector_on_click function\n",
    "    if update_button_sector:\n",
    "        update_map_sector_on_click(None)\n",
    "\n",
    "    # Display the dropdown menus and the button for sectors\n",
    "    st.write(state_dropdown_sector, sector_dropdown, update_button_sector)\n",
    "\n",
    "    # Display the initial sector map (will be empty initially)\n",
    "    st.plotly_chart(fig_sector)\n"
   ]
  },
  {
   "cell_type": "code",
   "execution_count": null,
   "metadata": {},
   "outputs": [],
   "source": []
  }
 ],
 "metadata": {
  "kernelspec": {
   "display_name": "Python 3",
   "language": "python",
   "name": "python3"
  },
  "language_info": {
   "codemirror_mode": {
    "name": "ipython",
    "version": 3
   },
   "file_extension": ".py",
   "mimetype": "text/x-python",
   "name": "python",
   "nbconvert_exporter": "python",
   "pygments_lexer": "ipython3",
   "version": "3.8.3"
  }
 },
 "nbformat": 4,
 "nbformat_minor": 4
}
